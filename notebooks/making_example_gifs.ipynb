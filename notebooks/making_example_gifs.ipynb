{
 "cells": [
  {
   "cell_type": "code",
   "execution_count": 1,
   "metadata": {},
   "outputs": [],
   "source": [
    "import pathlib\n",
    "import numpy as np, matplotlib.pyplot as plt\n",
    "from matplotlib.patches import FancyArrow\n",
    "from PIL import Image\n",
    "from flyerdetection.flyer_detection import Flyer_Detection"
   ]
  },
  {
   "cell_type": "code",
   "execution_count": 42,
   "metadata": {},
   "outputs": [],
   "source": [
    "root = pathlib.Path().resolve().parent.parent\n",
    "#camera_dir_name = \"Camera_10_35_34\"\n",
    "#camera_dir_name = \"Camera_11_30_10\"\n",
    "#camera_dir_name = \"Camera_11_33_43\"\n",
    "#camera_dir_name = \"Camera_11_38_00\"\n",
    "#camera_dir_name = \"Camera_11_40_23\"\n",
    "#camera_dir_name = \"Camera_11_43_33\"\n",
    "#camera_dir_name = \"Camera_11_45_59\"\n",
    "#camera_dir_name = \"Camera_11_48_16\"\n",
    "#camera_dir_name = \"Camera_11_49_43\"\n",
    "#camera_dir_name = \"Camera_12_01_40\"\n",
    "camera_dir_name = \"Camera_17_15_49\"\n",
    "original_ims_path = root / \"flyer_image_examples\" / camera_dir_name\n",
    "analysis_ims_path = root / \"OUTPUT\" / camera_dir_name"
   ]
  },
  {
   "cell_type": "code",
   "execution_count": 43,
   "metadata": {},
   "outputs": [],
   "source": [
    "temp = Flyer_Detection()\n",
    "temp.create_df_from_input_location(str(original_ims_path), str(analysis_ims_path.parent))"
   ]
  },
  {
   "cell_type": "code",
   "execution_count": 44,
   "metadata": {},
   "outputs": [],
   "source": [
    "analyzer = Flyer_Detection()\n",
    "\n",
    "gif_frames_path = root / \"OUTPUT\" / f\"{camera_dir_name}_gif_frames\"\n",
    "if not gif_frames_path.is_dir():\n",
    "    gif_frames_path.mkdir()\n",
    "\n",
    "for original_im_path in original_ims_path.glob(\"*.bmp\"):\n",
    "    frame_number = int(original_im_path.stem.split(\"_\")[-1])\n",
    "    if frame_number not in range(90, 161):\n",
    "        continue\n",
    "    original_im_arr = np.asarray(Image.open(original_im_path))\n",
    "    analysis_im_path = analysis_ims_path / original_im_path.name\n",
    "    if not analysis_im_path.is_file():\n",
    "        f, ax = plt.subplots()\n",
    "        ax.imshow(original_im_arr, cmap=\"gray\")\n",
    "        ax.axis(\"off\")\n",
    "        plt.savefig(\n",
    "            gif_frames_path / original_im_path.name.replace(\".bmp\", \".png\"),\n",
    "            bbox_inches=\"tight\",\n",
    "        )\n",
    "        plt.close()\n",
    "        continue\n",
    "    analysis_im_arr_as_read = np.asarray(Image.open(analysis_im_path))\n",
    "    analysis_im_arr = np.zeros_like(original_im_arr)\n",
    "    analysis_im_arr[: analysis_im_arr_as_read.shape[0], :] = analysis_im_arr_as_read\n",
    "    filtered_image = analyzer.filter_image(original_im_arr)\n",
    "    result = analyzer.radius_from_lslm(\n",
    "        filtered_image,\n",
    "        original_im_path.relative_to(root),\n",
    "        root / \"OUTPUT\",\n",
    "        min_radius=0,\n",
    "        max_radius=np.inf,\n",
    "        save_output_file=False,\n",
    "    )\n",
    "    arrow = FancyArrow(\n",
    "        np.median(result.flyer_column),\n",
    "        np.median(result.flyer_row),\n",
    "        0.75 * (result.center_column - np.mean(result.flyer_column)),\n",
    "        0.75 * (result.center_row - np.mean(result.flyer_row)),\n",
    "        width=0.1,\n",
    "        color=\"r\",\n",
    "    )\n",
    "    f, ax = plt.subplots()\n",
    "    ax.imshow(original_im_arr, cmap=\"gray\")\n",
    "    analysis_im_alphas = 0.5 * np.ones_like(analysis_im_arr)\n",
    "    analysis_im_alphas[analysis_im_arr == 0] = 0\n",
    "    ax.imshow(analysis_im_arr, alpha=analysis_im_alphas)\n",
    "    ax.add_patch(arrow)\n",
    "    ax.axis(\"off\")\n",
    "    plt.savefig(\n",
    "        gif_frames_path / original_im_path.name.replace(\".bmp\", \".png\"),\n",
    "        bbox_inches=\"tight\",\n",
    "    )\n",
    "    plt.close()\n"
   ]
  },
  {
   "cell_type": "code",
   "execution_count": 45,
   "metadata": {},
   "outputs": [],
   "source": [
    "all_frames_paths = [frame_path for frame_path in gif_frames_path.glob(\"*.png\")]\n",
    "all_frames_paths.sort(key=lambda x: int(x.stem.split(\"_\")[-1]))\n",
    "frames = [Image.open(image_fp) for image_fp in all_frames_paths]\n",
    "frame_one = frames[0]\n",
    "frame_one.save(\n",
    "    analysis_ims_path.parent/f\"{camera_dir_name}_flyer_analysis.gif\",\n",
    "    format=\"GIF\",\n",
    "    append_images=frames,\n",
    "    save_all=True,\n",
    "    duration=100,\n",
    "    loop=1,\n",
    ")\n"
   ]
  },
  {
   "cell_type": "code",
   "execution_count": null,
   "metadata": {},
   "outputs": [],
   "source": []
  }
 ],
 "metadata": {
  "kernelspec": {
   "display_name": "flyer-detection",
   "language": "python",
   "name": "python3"
  },
  "language_info": {
   "codemirror_mode": {
    "name": "ipython",
    "version": 3
   },
   "file_extension": ".py",
   "mimetype": "text/x-python",
   "name": "python",
   "nbconvert_exporter": "python",
   "pygments_lexer": "ipython3",
   "version": "3.9.0"
  },
  "orig_nbformat": 4
 },
 "nbformat": 4,
 "nbformat_minor": 2
}
