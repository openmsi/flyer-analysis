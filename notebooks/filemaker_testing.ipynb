{
 "cells": [
  {
   "cell_type": "code",
   "execution_count": 1,
   "metadata": {},
   "outputs": [],
   "source": [
    "# imports\n",
    "import pickle, requests, pathlib, re, datetime\n",
    "import fmrest\n",
    "\n",
    "# hide ssl warnings\n",
    "requests.packages.urllib3.disable_warnings()"
   ]
  },
  {
   "cell_type": "code",
   "execution_count": 2,
   "metadata": {},
   "outputs": [],
   "source": [
    "# set the path to the pkl file holding the auth uname/pword\n",
    "auth_pkl_path = pathlib.Path(\".\").resolve().parent.parent/\"filemaker_db_auth.pkl\""
   ]
  },
  {
   "cell_type": "code",
   "execution_count": 3,
   "metadata": {},
   "outputs": [
    {
     "data": {
      "text/plain": [
       "'f4ebbe70c50f4b99aaf7660a91b10ebe0d2ac0bfe27af232e0'"
      ]
     },
     "execution_count": 3,
     "metadata": {},
     "output_type": "execute_result"
    }
   ],
   "source": [
    "# read the auth uname/pword from the pickle file\n",
    "with open(auth_pkl_path,\"rb\") as handle:\n",
    "    auth_dict = pickle.load(handle)\n",
    "\n",
    "# create and authenticate to the server connected to the \"Experiment\" layout\n",
    "fms = fmrest.Server(\n",
    "    \"https://10.173.38.223\",\n",
    "    user=auth_dict[\"uname\"],\n",
    "    password=auth_dict[\"pword\"],\n",
    "    database=\"Laser Shock\",\n",
    "    layout=\"Experiment\",\n",
    "    verify_ssl=False,\n",
    "    api_version=\"v1\",\n",
    ")\n",
    "fms.login()"
   ]
  },
  {
   "cell_type": "code",
   "execution_count": 4,
   "metadata": {},
   "outputs": [
    {
     "name": "stdout",
     "output_type": "stream",
     "text": [
      "'Performed By'                     : 'Diamond'                           ({<class 'str'>})\n",
      "'Date'                             : '06/20/2022'                        ({<class 'str'>})\n",
      "'Energy'                           : 2000                                ({<class 'int'>})\n",
      "'Theoretical Beam Diameter'        : 0.5666666666666667                  ({<class 'float'>})\n",
      "'Fluence'                          : 793.0211697312433                   ({<class 'float'>})\n",
      "'Beam Shaper Input Beam Diameter'  : 25                                  ({<class 'int'>})\n",
      "'Beam Shaper'                      : 'Silios'                            ({<class 'str'>})\n",
      "'Effective Focal Length'           : 85                                  ({<class 'int'>})\n",
      "'Drive Laser Mode'                 : 'Q switched'                        ({<class 'str'>})\n",
      "'Oscillator Setting'               : 10                                  ({<class 'int'>})\n",
      "'Amplifier Setting'                : 10                                  ({<class 'int'>})\n",
      "'Attenuator Angle'                 : 265                                 ({<class 'str'>, <class 'int'>})\n",
      "'New Energy Measurement'           : 'No'                                ({<class 'str'>})\n",
      "'Booster Amp Setting'              : 400.0                               ({<class 'float'>})\n",
      "'PreAmp Output Power'              : 6.4                                 ({<class 'str'>, <class 'float'>, <class 'int'>})\n",
      "'PDV Spot Size'                    : 80                                  ({<class 'str'>, <class 'int'>})\n",
      "'Focusing Lens Arrangement'        : 'New'                               ({<class 'str'>})\n",
      "'System Configuration'             : '1-Point'                           ({<class 'str'>})\n",
      "'Current Set Point'                : 0.11                                ({<class 'str'>, <class 'float'>})\n",
      "'Oscilloscope Range'               : 100                                 ({<class 'str'>, <class 'int'>})\n",
      "'PDV Method'                       : 'Time Lens'                         ({<class 'str'>})\n",
      "'Seed Laser Wavelength'            : 1541.47                             ({<class 'str'>, <class 'float'>})\n",
      "'Reference Laser Wavelength'       : 1541.0                              ({<class 'str'>, <class 'float'>})\n",
      "'Time per Div'                     : 10                                  ({<class 'str'>, <class 'int'>})\n",
      "'Carrier Freq'                     : 10                                  ({<class 'str'>, <class 'float'>, <class 'int'>})\n",
      "'Camera Lens'                      : '105'                               ({<class 'str'>})\n",
      "'Doubler'                          : '1'                                 ({<class 'str'>})\n",
      "'Camera Aperture'                  : '0'                                 ({<class 'str'>})\n",
      "'Lens Aperture'                    : '4'                                 ({<class 'str'>})\n",
      "'Camera Filter'                    : '648 CWL/20 FWHM'                   ({<class 'str'>})\n",
      "'Illumination Laser'               : 'Cavitar'                           ({<class 'str'>})\n",
      "'Laser Filter'                     : 'Texwipe/diffuser'                  ({<class 'str'>})\n",
      "'Speed'                            : '10,000,000'                        ({<class 'str'>})\n",
      "'Exposure'                         : 'N/A'                               ({<class 'str'>})\n",
      "'High Speed Camera'                : 'Shimadzu'                          ({<class 'str'>})\n",
      "'Beam Profiler Filter'             : 'OD 8'                              ({<class 'str'>})\n",
      "'Beam Profiler Gain'               : 2.84                                ({<class 'str'>, <class 'float'>, <class 'int'>})\n",
      "'Beam Profiler Exposure'           : 227.12                              ({<class 'str'>, <class 'float'>, <class 'int'>})\n",
      "'Check Vacuum'                     : 'On'                                ({<class 'str'>})\n",
      "'Base Pressure'                    : 43                                  ({<class 'str'>, <class 'float'>, <class 'int'>})\n",
      "'PDV spot flyer ratio'             : '?'                                 ({<class 'str'>})\n",
      "'Sample Recovery Method'           : 'Glass Petri Dish'                  ({<class 'str'>})\n",
      "'Launch Ratio'                     : '?'                                 ({<class 'str'>})\n",
      "'Launch Package Holder'            : 'Vacuum Chamber'                    ({<class 'str'>})\n",
      "'Flyer Tilt'                       : ''                                  ({<class 'str'>})\n",
      "'Flyer Curvature'                  : ''                                  ({<class 'str'>})\n",
      "'Camera Filename'                  : ''                                  ({<class 'str'>})\n",
      "'Return Signal Strength'           : ''                                  ({<class 'str'>, <class 'int'>})\n",
      "'Scope Filename'                   : 'C2--20220620--00013'               ({<class 'str'>})\n",
      "'Beam Profile Filename'            : 'BP--20220620--00013'               ({<class 'str'>})\n",
      "'Check Alignment'                  : ''                                  ({<class 'str'>})\n",
      "'Check Beam Path'                  : ''                                  ({<class 'str'>})\n",
      "'Check Camera'                     : ''                                  ({<class 'str'>})\n",
      "'Check Energy'                     : ''                                  ({<class 'str'>})\n",
      "'Check Illumination'               : ''                                  ({<class 'str'>})\n",
      "'Check Main Amp'                   : ''                                  ({<class 'str'>})\n",
      "'Check PDV'                        : ''                                  ({<class 'str'>})\n",
      "'Check PreAmp'                     : ''                                  ({<class 'str'>})\n",
      "'Check Triggers'                   : ''                                  ({<class 'str'>})\n",
      "'Check Launch ID'                  : ''                                  ({<class 'str'>})\n",
      "'Check Recover Sample'             : ''                                  ({<class 'str'>})\n",
      "'Check Previous Sample'            : ''                                  ({<class 'str'>})\n",
      "'Check Protection'                 : ''                                  ({<class 'str'>})\n",
      "'Check Protection Again'           : ''                                  ({<class 'str'>})\n",
      "'Check Beam Profiler'              : ''                                  ({<class 'str'>})\n",
      "'Check Save'                       : ''                                  ({<class 'str'>})\n",
      "'Check Safety'                     : ''                                  ({<class 'str'>})\n",
      "'Max Velocity'                     : ''                                  ({<class 'str'>, <class 'float'>, <class 'int'>})\n",
      "'Est Impact Velocity'              : ''                                  ({<class 'str'>, <class 'float'>, <class 'int'>})\n",
      "'Launch Package Orientation'       : ''                                  ({<class 'str'>})\n",
      "'Video Quality'                    : ''                                  ({<class 'str'>})\n",
      "'Recovery Box'                     : ''                                  ({<class 'str'>, <class 'int'>})\n",
      "'Recovery Row'                     : ''                                  ({<class 'str'>, <class 'int'>})\n",
      "'Recovery Column'                  : ''                                  ({<class 'str'>, <class 'int'>})\n",
      "'Spall State'                      : ''                                  ({<class 'str'>})\n",
      "'Check Plateau'                    : ''                                  ({<class 'str'>})\n",
      "'Experiment Day Counter'           : '00013'                             ({<class 'str'>, <class 'int'>})\n",
      "'Grant Funding'                    : 'Time Lens PDV'                     ({<class 'str'>})\n",
      "'Launch ID'                        : 'F098-R7C4'                         ({<class 'str'>})\n",
      "'Experiment Type'                  : 'Flyer velocity analysis'           ({<class 'str'>})\n",
      "'Notes & Comments'                 : ''                                  ({<class 'str'>})\n",
      "'recordId'                         : '1132'                              ({<class 'str'>})\n",
      "'modId'                            : '3'                                 ({<class 'str'>})\n"
     ]
    }
   ],
   "source": [
    "foundset_df = fms.get_records(limit=100000).to_df()\n",
    "pad_to = 35\n",
    "for colname in foundset_df.columns:\n",
    "    ex_entry = foundset_df[colname].iloc[int(foundset_df.shape[0]/2)]\n",
    "    entry_type = set(list(foundset_df[colname].map(type)))\n",
    "    print(f\"{repr(colname): <{pad_to}}: {repr(ex_entry): <{pad_to}} ({repr(entry_type)})\")"
   ]
  },
  {
   "cell_type": "code",
   "execution_count": 5,
   "metadata": {},
   "outputs": [
    {
     "name": "stdout",
     "output_type": "stream",
     "text": [
      "performed_by                   'Performed By':                'Lezcano':                     (<class 'str'>)               \n",
      "date                           'Date':                        '10/11/2021':                  (<class 'str'>)               \n",
      "energy                         'Energy':                      750:                           (<class 'int'>)               \n",
      "theoretical_beam_diameter      'Theoretical Beam Diameter':   1.6666666666666667:            (<class 'float'>)             \n",
      "fluence                        'Fluence':                     34.377467707849384:            (<class 'float'>)             \n",
      "beam_shaper_input_beam_diameter 'Beam Shaper Input Beam Diameter': 25:                            (<class 'int'>)               \n",
      "beam_shaper                    'Beam Shaper':                 'Silios':                      (<class 'str'>)               \n",
      "effective_focal_length         'Effective Focal Length':      250:                           (<class 'int'>)               \n",
      "drive_laser_mode               'Drive Laser Mode':            'Q switched':                  (<class 'str'>)               \n",
      "oscillator_setting             'Oscillator Setting':          10:                            (<class 'int'>)               \n",
      "amplifier_setting              'Amplifier Setting':           10:                            (<class 'int'>)               \n",
      "attenuator_angle               'Attenuator Angle':            260:                           (<class 'int'>)               \n",
      "new_energy_measurement         'New Energy Measurement':      'Yes':                         (<class 'str'>)               \n",
      "booster_amp_setting            'Booster Amp Setting':         0:                             (<class 'int'>)               \n",
      "preamp_output_power            'PreAmp Output Power':         0:                             (<class 'int'>)               \n",
      "pdv_spot_size                  'PDV Spot Size':               '':                            (<class 'str'>)               \n",
      "focusing_lens_arrangement      'Focusing Lens Arrangement':   '':                            (<class 'str'>)               \n",
      "system_configuration           'System Configuration':        '':                            (<class 'str'>)               \n",
      "current_set_point              'Current Set Point':           '':                            (<class 'str'>)               \n",
      "oscilloscope_range             'Oscilloscope Range':          '':                            (<class 'str'>)               \n",
      "pdv_method                     'PDV Method':                  '':                            (<class 'str'>)               \n",
      "seed_laser_wavelength          'Seed Laser Wavelength':       '':                            (<class 'str'>)               \n",
      "reference_laser_wavelength     'Reference Laser Wavelength':  '':                            (<class 'str'>)               \n",
      "time_per_div                   'Time per Div':                '':                            (<class 'str'>)               \n",
      "carrier_freq                   'Carrier Freq':                '':                            (<class 'str'>)               \n",
      "camera_lens                    'Camera Lens':                 '105':                         (<class 'str'>)               \n",
      "doubler                        'Doubler':                     '1':                           (<class 'str'>)               \n",
      "camera_aperture                'Camera Aperture':             '0':                           (<class 'str'>)               \n",
      "lens_aperture                  'Lens Aperture':               '11':                          (<class 'str'>)               \n",
      "camera_filter                  'Camera Filter':               '648 CWL/20 FWHM':             (<class 'str'>)               \n",
      "illumination_laser             'Illumination Laser':          'SiLux':                       (<class 'str'>)               \n",
      "laser_filter                   'Laser Filter':                'Texwipe/diffuser':            (<class 'str'>)               \n",
      "speed                          'Speed':                       '10,000,000':                  (<class 'str'>)               \n",
      "exposure                       'Exposure':                    'N/A':                         (<class 'str'>)               \n",
      "high_speed_camera              'High Speed Camera':           'Shimadzu':                    (<class 'str'>)               \n",
      "beam_profiler_filter           'Beam Profiler Filter':        '':                            (<class 'str'>)               \n",
      "beam_profiler_gain             'Beam Profiler Gain':          '':                            (<class 'str'>)               \n",
      "beam_profiler_exposure         'Beam Profiler Exposure':      '':                            (<class 'str'>)               \n",
      "check_vacuum                   'Check Vacuum':                '':                            (<class 'str'>)               \n",
      "base_pressure                  'Base Pressure':               '':                            (<class 'str'>)               \n",
      "pdv_spot_flyer_ratio           'PDV spot flyer ratio':        '':                            (<class 'str'>)               \n",
      "sample_recovery_method         'Sample Recovery Method':      'none':                        (<class 'str'>)               \n",
      "launch_ratio                   'Launch Ratio':                '?':                           (<class 'str'>)               \n",
      "launch_package_holder          'Launch Package Holder':       'Vacuum Chamber':              (<class 'str'>)               \n",
      "flyer_tilt                     'Flyer Tilt':                  '':                            (<class 'str'>)               \n",
      "flyer_curvature                'Flyer Curvature':             '':                            (<class 'str'>)               \n",
      "camera_filename                'Camera Filename':             '':                            (<class 'str'>)               \n",
      "return_signal_strength         'Return Signal Strength':      'N/A':                         (<class 'str'>)               \n",
      "scope_filename                 'Scope Filename':              'N/A':                         (<class 'str'>)               \n",
      "beam_profile_filename          'Beam Profile Filename':       'N/A':                         (<class 'str'>)               \n",
      "check_alignment                'Check Alignment':             ' ':                           (<class 'str'>)               \n",
      "check_beam_path                'Check Beam Path':             ' ':                           (<class 'str'>)               \n",
      "check_camera                   'Check Camera':                ' ':                           (<class 'str'>)               \n",
      "check_energy                   'Check Energy':                ' ':                           (<class 'str'>)               \n",
      "check_illumination             'Check Illumination':          ' ':                           (<class 'str'>)               \n",
      "check_main_amp                 'Check Main Amp':              '':                            (<class 'str'>)               \n",
      "check_pdv                      'Check PDV':                   '':                            (<class 'str'>)               \n",
      "check_preamp                   'Check PreAmp':                '':                            (<class 'str'>)               \n",
      "check_triggers                 'Check Triggers':              ' ':                           (<class 'str'>)               \n",
      "check_launch_id                'Check Launch ID':             ' ':                           (<class 'str'>)               \n",
      "check_recover_sample           'Check Recover Sample':        '':                            (<class 'str'>)               \n",
      "check_previous_sample          'Check Previous Sample':       '':                            (<class 'str'>)               \n",
      "check_protection               'Check Protection':            ' ':                           (<class 'str'>)               \n",
      "check_protection_again         'Check Protection Again':      ' ':                           (<class 'str'>)               \n",
      "check_beam_profiler            'Check Beam Profiler':         '':                            (<class 'str'>)               \n",
      "check_save                     'Check Save':                  '':                            (<class 'str'>)               \n",
      "check_safety                   'Check Safety':                ' ':                           (<class 'str'>)               \n",
      "max_velocity                   'Max Velocity':                '':                            (<class 'str'>)               \n",
      "est_impact_velocity            'Est Impact Velocity':         '':                            (<class 'str'>)               \n",
      "launch_package_orientation     'Launch Package Orientation':  '':                            (<class 'str'>)               \n",
      "video_quality                  'Video Quality':               '':                            (<class 'str'>)               \n",
      "recovery_box                   'Recovery Box':                '':                            (<class 'str'>)               \n",
      "recovery_row                   'Recovery Row':                '':                            (<class 'str'>)               \n",
      "recovery_column                'Recovery Column':             '':                            (<class 'str'>)               \n",
      "spall_state                    'Spall State':                 '':                            (<class 'str'>)               \n",
      "check_plateau                  'Check Plateau':               '':                            (<class 'str'>)               \n",
      "experiment_day_counter         'Experiment Day Counter':      '':                            (<class 'str'>)               \n",
      "grant_funding                  'Grant Funding':               'MEDE Metals':                 (<class 'str'>)               \n",
      "launch_id                      'Launch ID':                   '':                            (<class 'str'>)               \n",
      "experiment_type                'Experiment Type':             'Focusing Lens EFL calibration': (<class 'str'>)               \n",
      "notes_&_comments               'Notes & Comments':            'Bad magnification on camera': (<class 'str'>)               \n",
      "recordid                       'recordId':                    '7':                           (<class 'str'>)               \n",
      "modid                          'modId':                       '23':                          (<class 'str'>)               \n"
     ]
    }
   ],
   "source": [
    "n_max_records = 10\n",
    "foundset = fms.get_records(limit=n_max_records)\n",
    "record = foundset[0]\n",
    "for key, value in zip(record.keys(),record.values()) :\n",
    "    keyfield = f\"{repr(key)}:\"\n",
    "    pythonkey = key.lower().replace(\" \",\"_\")\n",
    "    valfield = f\"{repr(value)}:\"\n",
    "    valtypefield = f\"({type(value)})\"\n",
    "    pad_to = 30\n",
    "    print(f\"{pythonkey: <{pad_to}} {keyfield: <{pad_to}} {valfield: <{pad_to}} {valtypefield: <{pad_to}}\")"
   ]
  },
  {
   "cell_type": "code",
   "execution_count": 6,
   "metadata": {},
   "outputs": [
    {
     "name": "stdout",
     "output_type": "stream",
     "text": [
      "198679\n",
      "20221111/TC--20221111--00027.bmp\n"
     ]
    }
   ],
   "source": [
    "bmp_paths_txt_file_path = pathlib.Path(\"/Users/margareteminizer/Desktop/bmp_paths.txt\")\n",
    "with open(bmp_paths_txt_file_path,\"r\") as fp:\n",
    "    bmp_rel_filepaths = [pathlib.Path(line.strip()) for line in fp.readlines()]\n",
    "print(len(bmp_rel_filepaths))\n",
    "print(bmp_rel_filepaths[0])"
   ]
  },
  {
   "cell_type": "code",
   "execution_count": 7,
   "metadata": {},
   "outputs": [
    {
     "name": "stdout",
     "output_type": "stream",
     "text": [
      "Found 127511 paths with a counter identified and 71168 paths with a camera filename (198679 total, 0 missing)\n"
     ]
    }
   ],
   "source": [
    "tc_filename_regex = re.compile(\"^TC--20\\d{2}(0\\d|1[0-2])([0-2]\\d|3[0-1])--\\d{5}.bmp$\")\n",
    "hs_tag_regex = re.compile(\"^HS--20\\d{2}(0\\d|1[0-2])([0-2]\\d|3[0-1])--\\d{5}$\")\n",
    "datestamp_regex = re.compile(\"^20\\d{2}_(0\\d|1[0-2])_([0-2]\\d|3[0-1])$\")\n",
    "camera_filename_regex = re.compile(\"^Camera_([0-1]\\d|2[0-3])_[0-5]\\d_[0-5]\\d$\")\n",
    "\n",
    "ids_by_fp = {}\n",
    "\n",
    "for rel_filepath in bmp_rel_filepaths:\n",
    "    # \"TC\" filenames get parsed with everything else\n",
    "    if tc_filename_regex.match(rel_filepath.name):\n",
    "        date_str = rel_filepath.name.split(\"--\")[1]\n",
    "        ids_by_fp[rel_filepath] = {\n",
    "            \"datestamp\": datetime.datetime.strptime(date_str, \"%Y%m%d\"),\n",
    "            \"counter\": rel_filepath.name[:-len(\".bmp\")].split(\"--\")[-1],\n",
    "        }\n",
    "        continue\n",
    "    parts = rel_filepath.parts\n",
    "    # first look for exactly one thing in the path like \"HS--(8-digit datestamp)--(5-digit counter)\"\n",
    "    hs_parts = [part for part in parts if hs_tag_regex.match(part)]\n",
    "    if len(hs_parts) == 1:\n",
    "        date_str = hs_parts[0].split(\"--\")[1]\n",
    "        ids_by_fp[rel_filepath] = {\n",
    "            \"datestamp\": datetime.datetime.strptime(date_str, \"%Y%m%d\"),\n",
    "            \"counter\": hs_parts[0].split(\"--\")[-1],\n",
    "        }\n",
    "        continue\n",
    "    # next look for exactly one thing in the path like \"yyyy_mm_dd\"\n",
    "    datestamp_parts = [part for part in parts if datestamp_regex.match(part)]\n",
    "    camera_filename_parts = [\n",
    "        part for part in parts if camera_filename_regex.match(part)\n",
    "    ]\n",
    "    if len(datestamp_parts) == 1 and len(camera_filename_parts) == 1:\n",
    "        ids_by_fp[rel_filepath] = {\n",
    "            \"datestamp\": datetime.datetime.strptime(datestamp_parts[0], \"%Y_%m_%d\"),\n",
    "            \"camera_filename\": \"_\".join(camera_filename_parts[0].split(\"_\")[1:]),\n",
    "        }\n",
    "        continue\n",
    "    print(f\"unhandled path: {rel_filepath}\")\n",
    "n_with_counter = len([fp for fp in ids_by_fp if \"counter\" in ids_by_fp[fp]])\n",
    "n_with_camera_filename = len(\n",
    "    [fp for fp in ids_by_fp if \"camera_filename\" in ids_by_fp[fp]]\n",
    ")\n",
    "n_total = n_with_counter + n_with_camera_filename\n",
    "n_missing = len(bmp_rel_filepaths)-n_total\n",
    "msg = (\n",
    "    f\"Found {n_with_counter} paths with a counter identified and \"\n",
    "    f\"{n_with_camera_filename} paths with a camera filename \"\n",
    "    f\"({n_total} total, {n_missing} missing)\"\n",
    ")\n",
    "print(msg)"
   ]
  },
  {
   "cell_type": "code",
   "execution_count": 8,
   "metadata": {},
   "outputs": [
    {
     "name": "stdout",
     "output_type": "stream",
     "text": [
      "found 533 total records from 548 total queries\n"
     ]
    }
   ],
   "source": [
    "queries = []\n",
    "for ii, (rel_filepath, id_dict) in enumerate(ids_by_fp.items()):\n",
    "    #if ii not in range(11054,11055):\n",
    "    #    continue\n",
    "    query = {\"Date\":id_dict[\"datestamp\"].strftime(\"%-m/%-d/%Y\")}\n",
    "    if \"counter\" in id_dict:\n",
    "        query[\"Experiment Day Counter\"] = id_dict[\"counter\"]\n",
    "    elif \"camera_filename\" in id_dict:\n",
    "        query[\"Camera Filename\"] = id_dict[\"camera_filename\"]\n",
    "    if query not in queries:\n",
    "        queries.append(query)\n",
    "foundset = fms.find(queries,limit=len(queries))\n",
    "n_found = 0\n",
    "for record in foundset:\n",
    "    n_found+=1\n",
    "print(f\"found {n_found} total records from {len(queries)} total queries\")\n"
   ]
  },
  {
   "cell_type": "code",
   "execution_count": null,
   "metadata": {},
   "outputs": [],
   "source": []
  }
 ],
 "metadata": {
  "kernelspec": {
   "display_name": "flyer-detection",
   "language": "python",
   "name": "python3"
  },
  "language_info": {
   "codemirror_mode": {
    "name": "ipython",
    "version": 3
   },
   "file_extension": ".py",
   "mimetype": "text/x-python",
   "name": "python",
   "nbconvert_exporter": "python",
   "pygments_lexer": "ipython3",
   "version": "3.9.0"
  },
  "orig_nbformat": 4
 },
 "nbformat": 4,
 "nbformat_minor": 2
}
