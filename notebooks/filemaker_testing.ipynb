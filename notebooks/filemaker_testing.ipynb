{
 "cells": [
  {
   "cell_type": "code",
   "execution_count": 1,
   "metadata": {},
   "outputs": [],
   "source": [
    "# imports\n",
    "import pickle, requests, pathlib, re, datetime\n",
    "import fmrest\n",
    "\n",
    "# hide ssl warnings\n",
    "requests.packages.urllib3.disable_warnings()"
   ]
  },
  {
   "cell_type": "code",
   "execution_count": 2,
   "metadata": {},
   "outputs": [],
   "source": [
    "# set the path to the pkl file holding the auth uname/pword\n",
    "auth_pkl_path = pathlib.Path(\".\").resolve().parent.parent/\"filemaker_db_auth.pkl\""
   ]
  },
  {
   "cell_type": "code",
   "execution_count": 3,
   "metadata": {},
   "outputs": [
    {
     "data": {
      "text/plain": [
       "'b99bfb4b7960e6a795ea9b214f7d9f6587ca50aac746b3b7c1b'"
      ]
     },
     "execution_count": 3,
     "metadata": {},
     "output_type": "execute_result"
    }
   ],
   "source": [
    "# read the auth uname/pword from the pickle file\n",
    "with open(auth_pkl_path,\"rb\") as handle:\n",
    "    auth_dict = pickle.load(handle)\n",
    "\n",
    "# create and authenticate to the server connected to the \"Experiment\" layout\n",
    "fms = fmrest.Server(\n",
    "    \"https://10.173.38.223\",\n",
    "    user=auth_dict[\"uname\"],\n",
    "    password=auth_dict[\"pword\"],\n",
    "    database=\"Laser Shock\",\n",
    "    layout=\"Experiment\",\n",
    "    verify_ssl=False,\n",
    "    api_version=\"v1\",\n",
    ")\n",
    "fms.login()"
   ]
  },
  {
   "cell_type": "code",
   "execution_count": 4,
   "metadata": {},
   "outputs": [
    {
     "name": "stdout",
     "output_type": "stream",
     "text": [
      "performed_by                   'Performed By':                'Lezcano':                     (<class 'str'>)               \n",
      "date                           'Date':                        '10/11/2021':                  (<class 'str'>)               \n",
      "energy                         'Energy':                      750:                           (<class 'int'>)               \n",
      "theoretical_beam_diameter      'Theoretical Beam Diameter':   1.6666666666666667:            (<class 'float'>)             \n",
      "fluence                        'Fluence':                     34.377467707849384:            (<class 'float'>)             \n",
      "beam_shaper_input_beam_diameter 'Beam Shaper Input Beam Diameter': 25:                            (<class 'int'>)               \n",
      "beam_shaper                    'Beam Shaper':                 'Silios':                      (<class 'str'>)               \n",
      "effective_focal_length         'Effective Focal Length':      250:                           (<class 'int'>)               \n",
      "drive_laser_mode               'Drive Laser Mode':            'Q switched':                  (<class 'str'>)               \n",
      "oscillator_setting             'Oscillator Setting':          10:                            (<class 'int'>)               \n",
      "amplifier_setting              'Amplifier Setting':           10:                            (<class 'int'>)               \n",
      "attenuator_angle               'Attenuator Angle':            260:                           (<class 'int'>)               \n",
      "new_energy_measurement         'New Energy Measurement':      'Yes':                         (<class 'str'>)               \n",
      "booster_amp_setting            'Booster Amp Setting':         0:                             (<class 'int'>)               \n",
      "preamp_output_power            'PreAmp Output Power':         0:                             (<class 'int'>)               \n",
      "pdv_spot_size                  'PDV Spot Size':               '':                            (<class 'str'>)               \n",
      "focusing_lens_arrangement      'Focusing Lens Arrangement':   '':                            (<class 'str'>)               \n",
      "system_configuration           'System Configuration':        '':                            (<class 'str'>)               \n",
      "current_set_point              'Current Set Point':           '':                            (<class 'str'>)               \n",
      "oscilloscope_range             'Oscilloscope Range':          '':                            (<class 'str'>)               \n",
      "pdv_method                     'PDV Method':                  '':                            (<class 'str'>)               \n",
      "seed_laser_wavelength          'Seed Laser Wavelength':       '':                            (<class 'str'>)               \n",
      "reference_laser_wavelength     'Reference Laser Wavelength':  '':                            (<class 'str'>)               \n",
      "time_per_div                   'Time per Div':                '':                            (<class 'str'>)               \n",
      "carrier_freq                   'Carrier Freq':                '':                            (<class 'str'>)               \n",
      "camera_lens                    'Camera Lens':                 '105':                         (<class 'str'>)               \n",
      "doubler                        'Doubler':                     '1':                           (<class 'str'>)               \n",
      "camera_aperture                'Camera Aperture':             '0':                           (<class 'str'>)               \n",
      "lens_aperture                  'Lens Aperture':               '11':                          (<class 'str'>)               \n",
      "camera_filter                  'Camera Filter':               '648 CWL/20 FWHM':             (<class 'str'>)               \n",
      "illumination_laser             'Illumination Laser':          'SiLux':                       (<class 'str'>)               \n",
      "laser_filter                   'Laser Filter':                'Texwipe/diffuser':            (<class 'str'>)               \n",
      "speed                          'Speed':                       '10,000,000':                  (<class 'str'>)               \n",
      "exposure                       'Exposure':                    'N/A':                         (<class 'str'>)               \n",
      "high_speed_camera              'High Speed Camera':           'Shimadzu':                    (<class 'str'>)               \n",
      "beam_profiler_filter           'Beam Profiler Filter':        '':                            (<class 'str'>)               \n",
      "beam_profiler_gain             'Beam Profiler Gain':          '':                            (<class 'str'>)               \n",
      "beam_profiler_exposure         'Beam Profiler Exposure':      '':                            (<class 'str'>)               \n",
      "check_vacuum                   'Check Vacuum':                '':                            (<class 'str'>)               \n",
      "base_pressure                  'Base Pressure':               '':                            (<class 'str'>)               \n",
      "pdv_spot_flyer_ratio           'PDV spot flyer ratio':        '':                            (<class 'str'>)               \n",
      "sample_recovery_method         'Sample Recovery Method':      'none':                        (<class 'str'>)               \n",
      "launch_ratio                   'Launch Ratio':                '?':                           (<class 'str'>)               \n",
      "launch_package_holder          'Launch Package Holder':       'Vacuum Chamber':              (<class 'str'>)               \n",
      "flyer_tilt                     'Flyer Tilt':                  '':                            (<class 'str'>)               \n",
      "flyer_curvature                'Flyer Curvature':             '':                            (<class 'str'>)               \n",
      "camera_filename                'Camera Filename':             '':                            (<class 'str'>)               \n",
      "return_signal_strength         'Return Signal Strength':      'N/A':                         (<class 'str'>)               \n",
      "scope_filename                 'Scope Filename':              'N/A':                         (<class 'str'>)               \n",
      "beam_profile_filename          'Beam Profile Filename':       'N/A':                         (<class 'str'>)               \n",
      "check_alignment                'Check Alignment':             ' ':                           (<class 'str'>)               \n",
      "check_beam_path                'Check Beam Path':             ' ':                           (<class 'str'>)               \n",
      "check_camera                   'Check Camera':                ' ':                           (<class 'str'>)               \n",
      "check_energy                   'Check Energy':                ' ':                           (<class 'str'>)               \n",
      "check_illumination             'Check Illumination':          ' ':                           (<class 'str'>)               \n",
      "check_main_amp                 'Check Main Amp':              '':                            (<class 'str'>)               \n",
      "check_pdv                      'Check PDV':                   '':                            (<class 'str'>)               \n",
      "check_preamp                   'Check PreAmp':                '':                            (<class 'str'>)               \n",
      "check_triggers                 'Check Triggers':              ' ':                           (<class 'str'>)               \n",
      "check_launch_id                'Check Launch ID':             ' ':                           (<class 'str'>)               \n",
      "check_recover_sample           'Check Recover Sample':        '':                            (<class 'str'>)               \n",
      "check_previous_sample          'Check Previous Sample':       '':                            (<class 'str'>)               \n",
      "check_protection               'Check Protection':            ' ':                           (<class 'str'>)               \n",
      "check_protection_again         'Check Protection Again':      ' ':                           (<class 'str'>)               \n",
      "check_beam_profiler            'Check Beam Profiler':         '':                            (<class 'str'>)               \n",
      "check_save                     'Check Save':                  '':                            (<class 'str'>)               \n",
      "check_safety                   'Check Safety':                ' ':                           (<class 'str'>)               \n",
      "max_velocity                   'Max Velocity':                '':                            (<class 'str'>)               \n",
      "est_impact_velocity            'Est Impact Velocity':         '':                            (<class 'str'>)               \n",
      "launch_package_orientation     'Launch Package Orientation':  '':                            (<class 'str'>)               \n",
      "video_quality                  'Video Quality':               '':                            (<class 'str'>)               \n",
      "recovery_box                   'Recovery Box':                '':                            (<class 'str'>)               \n",
      "recovery_row                   'Recovery Row':                '':                            (<class 'str'>)               \n",
      "recovery_column                'Recovery Column':             '':                            (<class 'str'>)               \n",
      "spall_state                    'Spall State':                 '':                            (<class 'str'>)               \n",
      "check_plateau                  'Check Plateau':               '':                            (<class 'str'>)               \n",
      "experiment_day_counter         'Experiment Day Counter':      '':                            (<class 'str'>)               \n",
      "grant_funding                  'Grant Funding':               'MEDE Metals':                 (<class 'str'>)               \n",
      "launch_id                      'Launch ID':                   '':                            (<class 'str'>)               \n",
      "experiment_type                'Experiment Type':             'Focusing Lens EFL calibration': (<class 'str'>)               \n",
      "notes_&_comments               'Notes & Comments':            'Bad magnification on camera': (<class 'str'>)               \n",
      "recordid                       'recordId':                    '7':                           (<class 'str'>)               \n",
      "modid                          'modId':                       '23':                          (<class 'str'>)               \n"
     ]
    }
   ],
   "source": [
    "n_max_records = 10\n",
    "foundset = fms.get_records(limit=n_max_records)\n",
    "record = foundset[0]\n",
    "for key, value in zip(record.keys(),record.values()) :\n",
    "    keyfield = f\"{repr(key)}:\"\n",
    "    pythonkey = key.lower().replace(\" \",\"_\")\n",
    "    valfield = f\"{repr(value)}:\"\n",
    "    valtypefield = f\"({type(value)})\"\n",
    "    pad_to = 30\n",
    "    print(f\"{pythonkey: <{pad_to}} {keyfield: <{pad_to}} {valfield: <{pad_to}} {valtypefield: <{pad_to}}\")"
   ]
  },
  {
   "cell_type": "code",
   "execution_count": 5,
   "metadata": {},
   "outputs": [
    {
     "name": "stdout",
     "output_type": "stream",
     "text": [
      "198679\n",
      "20221111/TC--20221111--00027.bmp\n"
     ]
    }
   ],
   "source": [
    "bmp_paths_txt_file_path = pathlib.Path(\"/Users/margareteminizer/Desktop/bmp_paths.txt\")\n",
    "with open(bmp_paths_txt_file_path,\"r\") as fp:\n",
    "    bmp_rel_filepaths = [pathlib.Path(line.strip()) for line in fp.readlines()]\n",
    "print(len(bmp_rel_filepaths))\n",
    "print(bmp_rel_filepaths[0])"
   ]
  },
  {
   "cell_type": "code",
   "execution_count": 6,
   "metadata": {},
   "outputs": [
    {
     "name": "stdout",
     "output_type": "stream",
     "text": [
      "Found 127511 paths with a counter identified and 71168 paths with a camera filename (198679 total, 0 missing)\n"
     ]
    }
   ],
   "source": [
    "tc_filename_regex = re.compile(\"^TC--20\\d{2}(0\\d|1[0-2])([0-2]\\d|3[0-1])--\\d{5}.bmp$\")\n",
    "hs_tag_regex = re.compile(\"^HS--20\\d{2}(0\\d|1[0-2])([0-2]\\d|3[0-1])--\\d{5}$\")\n",
    "datestamp_regex = re.compile(\"^20\\d{2}_(0\\d|1[0-2])_([0-2]\\d|3[0-1])$\")\n",
    "camera_filename_regex = re.compile(\"^Camera_([0-1]\\d|2[0-3])_[0-5]\\d_[0-5]\\d$\")\n",
    "\n",
    "ids_by_fp = {}\n",
    "\n",
    "for rel_filepath in bmp_rel_filepaths:\n",
    "    # \"TC\" filenames get parsed with everything else\n",
    "    if tc_filename_regex.match(rel_filepath.name):\n",
    "        date_str = rel_filepath.name.split(\"--\")[1]\n",
    "        ids_by_fp[rel_filepath] = {\n",
    "            \"datestamp\": datetime.datetime.strptime(date_str, \"%Y%m%d\"),\n",
    "            \"counter\": rel_filepath.name[:-len(\".bmp\")].split(\"--\")[-1],\n",
    "        }\n",
    "        continue\n",
    "    parts = rel_filepath.parts\n",
    "    # first look for exactly one thing in the path like \"HS--(8-digit datestamp)--(5-digit counter)\"\n",
    "    hs_parts = [part for part in parts if hs_tag_regex.match(part)]\n",
    "    if len(hs_parts) == 1:\n",
    "        date_str = hs_parts[0].split(\"--\")[1]\n",
    "        ids_by_fp[rel_filepath] = {\n",
    "            \"datestamp\": datetime.datetime.strptime(date_str, \"%Y%m%d\"),\n",
    "            \"counter\": hs_parts[0].split(\"--\")[-1],\n",
    "        }\n",
    "        continue\n",
    "    # next look for exactly one thing in the path like \"yyyy_mm_dd\"\n",
    "    datestamp_parts = [part for part in parts if datestamp_regex.match(part)]\n",
    "    camera_filename_parts = [\n",
    "        part for part in parts if camera_filename_regex.match(part)\n",
    "    ]\n",
    "    if len(datestamp_parts) == 1 and len(camera_filename_parts) == 1:\n",
    "        ids_by_fp[rel_filepath] = {\n",
    "            \"datestamp\": datetime.datetime.strptime(datestamp_parts[0], \"%Y_%m_%d\"),\n",
    "            \"camera_filename\": \"_\".join(camera_filename_parts[0].split(\"_\")[1:]),\n",
    "        }\n",
    "        continue\n",
    "    print(f\"unhandled path: {rel_filepath}\")\n",
    "n_with_counter = len([fp for fp in ids_by_fp if \"counter\" in ids_by_fp[fp]])\n",
    "n_with_camera_filename = len(\n",
    "    [fp for fp in ids_by_fp if \"camera_filename\" in ids_by_fp[fp]]\n",
    ")\n",
    "n_total = n_with_counter + n_with_camera_filename\n",
    "n_missing = len(bmp_rel_filepaths)-n_total\n",
    "msg = (\n",
    "    f\"Found {n_with_counter} paths with a counter identified and \"\n",
    "    f\"{n_with_camera_filename} paths with a camera filename \"\n",
    "    f\"({n_total} total, {n_missing} missing)\"\n",
    ")\n",
    "print(msg)"
   ]
  },
  {
   "cell_type": "code",
   "execution_count": 7,
   "metadata": {},
   "outputs": [
    {
     "name": "stdout",
     "output_type": "stream",
     "text": [
      "found 533 total records from 548 total queries\n"
     ]
    }
   ],
   "source": [
    "queries = []\n",
    "for ii, (rel_filepath, id_dict) in enumerate(ids_by_fp.items()):\n",
    "    #if ii not in range(11054,11055):\n",
    "    #    continue\n",
    "    query = {\"Date\":id_dict[\"datestamp\"].strftime(\"%-m/%-d/%Y\")}\n",
    "    if \"counter\" in id_dict:\n",
    "        query[\"Experiment Day Counter\"] = id_dict[\"counter\"]\n",
    "    elif \"camera_filename\" in id_dict:\n",
    "        query[\"Camera Filename\"] = id_dict[\"camera_filename\"]\n",
    "    if query not in queries:\n",
    "        queries.append(query)\n",
    "foundset = fms.find(queries,limit=len(queries))\n",
    "n_found = 0\n",
    "for record in foundset:\n",
    "    n_found+=1\n",
    "print(f\"found {n_found} total records from {len(queries)} total queries\")\n"
   ]
  },
  {
   "cell_type": "code",
   "execution_count": null,
   "metadata": {},
   "outputs": [],
   "source": []
  }
 ],
 "metadata": {
  "kernelspec": {
   "display_name": "flyer-detection",
   "language": "python",
   "name": "python3"
  },
  "language_info": {
   "codemirror_mode": {
    "name": "ipython",
    "version": 3
   },
   "file_extension": ".py",
   "mimetype": "text/x-python",
   "name": "python",
   "nbconvert_exporter": "python",
   "pygments_lexer": "ipython3",
   "version": "3.9.0"
  },
  "orig_nbformat": 4
 },
 "nbformat": 4,
 "nbformat_minor": 2
}
