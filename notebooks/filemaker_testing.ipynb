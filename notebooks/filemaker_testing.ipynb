{
 "cells": [
  {
   "cell_type": "code",
   "execution_count": 1,
   "metadata": {},
   "outputs": [],
   "source": [
    "# imports\n",
    "import pickle, requests, pathlib, re, datetime\n",
    "import fmrest\n",
    "\n",
    "# hide ssl warnings\n",
    "requests.packages.urllib3.disable_warnings()"
   ]
  },
  {
   "cell_type": "code",
   "execution_count": 2,
   "metadata": {},
   "outputs": [],
   "source": [
    "# set the path to the pkl file holding the auth uname/pword\n",
    "auth_pkl_path = pathlib.Path(\".\").resolve().parent.parent/\"filemaker_db_auth.pkl\""
   ]
  },
  {
   "cell_type": "code",
   "execution_count": 3,
   "metadata": {},
   "outputs": [
    {
     "ename": "FileMakerError",
     "evalue": "FileMaker Server returned error 812, Exceeded host’s capacity",
     "output_type": "error",
     "traceback": [
      "\u001b[0;31m---------------------------------------------------------------------------\u001b[0m",
      "\u001b[0;31mFileMakerError\u001b[0m                            Traceback (most recent call last)",
      "Cell \u001b[0;32mIn[3], line 15\u001b[0m\n\u001b[1;32m      5\u001b[0m \u001b[39m# create and authenticate to the server connected to the \"Experiment\" layout\u001b[39;00m\n\u001b[1;32m      6\u001b[0m fms \u001b[39m=\u001b[39m fmrest\u001b[39m.\u001b[39mServer(\n\u001b[1;32m      7\u001b[0m     \u001b[39m\"\u001b[39m\u001b[39mhttps://10.173.38.223\u001b[39m\u001b[39m\"\u001b[39m,\n\u001b[1;32m      8\u001b[0m     user\u001b[39m=\u001b[39mauth_dict[\u001b[39m\"\u001b[39m\u001b[39muname\u001b[39m\u001b[39m\"\u001b[39m],\n\u001b[0;32m   (...)\u001b[0m\n\u001b[1;32m     13\u001b[0m     api_version\u001b[39m=\u001b[39m\u001b[39m\"\u001b[39m\u001b[39mv1\u001b[39m\u001b[39m\"\u001b[39m,\n\u001b[1;32m     14\u001b[0m )\n\u001b[0;32m---> 15\u001b[0m fms\u001b[39m.\u001b[39;49mlogin()\n",
      "File \u001b[0;32m/usr/local/anaconda3/envs/flyer-detection/lib/python3.9/site-packages/fmrest/server.py:188\u001b[0m, in \u001b[0;36mServer.login\u001b[0;34m(self)\u001b[0m\n\u001b[1;32m    185\u001b[0m path \u001b[39m=\u001b[39m \u001b[39mself\u001b[39m\u001b[39m.\u001b[39m_get_api_path(\u001b[39m'\u001b[39m\u001b[39mauth\u001b[39m\u001b[39m'\u001b[39m)\u001b[39m.\u001b[39mformat(token\u001b[39m=\u001b[39m\u001b[39m'\u001b[39m\u001b[39m'\u001b[39m)\n\u001b[1;32m    186\u001b[0m data \u001b[39m=\u001b[39m {\u001b[39m'\u001b[39m\u001b[39mfmDataSource\u001b[39m\u001b[39m'\u001b[39m: \u001b[39mself\u001b[39m\u001b[39m.\u001b[39mdata_sources}\n\u001b[0;32m--> 188\u001b[0m response \u001b[39m=\u001b[39m \u001b[39mself\u001b[39;49m\u001b[39m.\u001b[39;49m_call_filemaker(\u001b[39m'\u001b[39;49m\u001b[39mPOST\u001b[39;49m\u001b[39m'\u001b[39;49m, path, data, auth\u001b[39m=\u001b[39;49m(\u001b[39mself\u001b[39;49m\u001b[39m.\u001b[39;49muser, \u001b[39mself\u001b[39;49m\u001b[39m.\u001b[39;49mpassword))\n\u001b[1;32m    189\u001b[0m \u001b[39mself\u001b[39m\u001b[39m.\u001b[39m_token \u001b[39m=\u001b[39m response\u001b[39m.\u001b[39mget(\u001b[39m'\u001b[39m\u001b[39mtoken\u001b[39m\u001b[39m'\u001b[39m, \u001b[39mNone\u001b[39;00m)\n\u001b[1;32m    191\u001b[0m \u001b[39mreturn\u001b[39;00m \u001b[39mself\u001b[39m\u001b[39m.\u001b[39m_token\n",
      "File \u001b[0;32m/usr/local/anaconda3/envs/flyer-detection/lib/python3.9/site-packages/fmrest/server.py:864\u001b[0m, in \u001b[0;36mServer._call_filemaker\u001b[0;34m(self, method, path, data, params, **kwargs)\u001b[0m\n\u001b[1;32m    862\u001b[0m \u001b[39mself\u001b[39m\u001b[39m.\u001b[39m_last_fm_error \u001b[39m=\u001b[39m fms_messages[\u001b[39m0\u001b[39m]\u001b[39m.\u001b[39mget(\u001b[39m'\u001b[39m\u001b[39mcode\u001b[39m\u001b[39m'\u001b[39m, \u001b[39m-\u001b[39m\u001b[39m1\u001b[39m)\n\u001b[1;32m    863\u001b[0m \u001b[39mif\u001b[39;00m \u001b[39mself\u001b[39m\u001b[39m.\u001b[39mlast_error \u001b[39m!=\u001b[39m FMSErrorCode\u001b[39m.\u001b[39mSUCCESS\u001b[39m.\u001b[39mvalue:\n\u001b[0;32m--> 864\u001b[0m     \u001b[39mraise\u001b[39;00m FileMakerError(\u001b[39mself\u001b[39m\u001b[39m.\u001b[39m_last_fm_error,\n\u001b[1;32m    865\u001b[0m                          fms_messages[\u001b[39m0\u001b[39m]\u001b[39m.\u001b[39mget(\u001b[39m'\u001b[39m\u001b[39mmessage\u001b[39m\u001b[39m'\u001b[39m, \u001b[39m'\u001b[39m\u001b[39mUnkown error\u001b[39m\u001b[39m'\u001b[39m))\n\u001b[1;32m    867\u001b[0m \u001b[39mself\u001b[39m\u001b[39m.\u001b[39m_set_content_type() \u001b[39m# reset content type\u001b[39;00m\n\u001b[1;32m    869\u001b[0m \u001b[39mreturn\u001b[39;00m fms_response\n",
      "\u001b[0;31mFileMakerError\u001b[0m: FileMaker Server returned error 812, Exceeded host’s capacity"
     ]
    }
   ],
   "source": [
    "# read the auth uname/pword from the pickle file\n",
    "with open(auth_pkl_path,\"rb\") as handle:\n",
    "    auth_dict = pickle.load(handle)\n",
    "\n",
    "# create and authenticate to the server connected to the \"Experiment\" layout\n",
    "fms = fmrest.Server(\n",
    "    \"https://10.173.38.223\",\n",
    "    user=auth_dict[\"uname\"],\n",
    "    password=auth_dict[\"pword\"],\n",
    "    database=\"Laser Shock\",\n",
    "    layout=\"Experiment\",\n",
    "    verify_ssl=False,\n",
    "    api_version=\"v1\",\n",
    ")\n",
    "fms.login()"
   ]
  },
  {
   "cell_type": "code",
   "execution_count": null,
   "metadata": {},
   "outputs": [],
   "source": [
    "n_max_records = 10\n",
    "foundset = fms.get_records(limit=n_max_records)\n",
    "record = foundset[0]\n",
    "for key, value in zip(record.keys(),record.values()) :\n",
    "    keyfield = f\"{repr(key)}:\"\n",
    "    pythonkey = key.lower().replace(\" \",\"_\")\n",
    "    valfield = f\"{repr(value)}:\"\n",
    "    valtypefield = f\"({type(value)})\"\n",
    "    pad_to = 30\n",
    "    print(f\"{pythonkey: <{pad_to}} {keyfield: <{pad_to}} {valfield: <{pad_to}} {valtypefield: <{pad_to}}\")"
   ]
  },
  {
   "cell_type": "code",
   "execution_count": null,
   "metadata": {},
   "outputs": [],
   "source": [
    "bmp_paths_txt_file_path = pathlib.Path(\"/Users/margareteminizer/Desktop/bmp_paths.txt\")\n",
    "with open(bmp_paths_txt_file_path,\"r\") as fp:\n",
    "    bmp_rel_filepaths = [pathlib.Path(line.strip()) for line in fp.readlines()]\n",
    "print(len(bmp_rel_filepaths))\n",
    "print(bmp_rel_filepaths[0])"
   ]
  },
  {
   "cell_type": "code",
   "execution_count": null,
   "metadata": {},
   "outputs": [],
   "source": [
    "hs_tag_regex = re.compile(\"^HS--20\\d{2}[0-1]\\d[0-3]\\d--\\d{5}$\")\n",
    "datestamp_regex = re.compile(\"^20\\d{2}_[0-1]\\d_[0-3]\\d$\")\n",
    "camera_filename_regex = re.compile(\"^Camera_([0-1]\\d|2[0-3])_[0-5]\\d_[0-5]\\d$\")\n",
    "\n",
    "ids_by_fp = {}\n",
    "n_wrong_filename_start = 0\n",
    "\n",
    "for rel_filepath in bmp_rel_filepaths:\n",
    "    if not rel_filepath.name.startswith(\"Camera_\"):\n",
    "        n_wrong_filename_start += 1\n",
    "        print(f\"Wrong filename: {rel_filepath}\")\n",
    "        continue\n",
    "    parts = rel_filepath.parts\n",
    "    # first look for exactly one thing in the path like \"HS--(8-digit datestamp)--(5-digit counter)\"\n",
    "    hs_parts = [part for part in parts if hs_tag_regex.match(part)]\n",
    "    if len(hs_parts) == 1:\n",
    "        date_str = hs_parts[0].split(\"--\")[1]\n",
    "        ids_by_fp[rel_filepath] = {\n",
    "            \"datestamp\": datetime.datetime.strptime(date_str, \"%Y%m%d\"),\n",
    "            \"counter\": hs_parts[0].split(\"--\")[-1],\n",
    "        }\n",
    "        continue\n",
    "    # next look for exactly one thing in the path like \"yyyy_mm_dd\"\n",
    "    datestamp_parts = [part for part in parts if datestamp_regex.match(part)]\n",
    "    camera_filename_parts = [\n",
    "        part for part in parts if camera_filename_regex.match(part)\n",
    "    ]\n",
    "    if len(datestamp_parts) == 1 and len(camera_filename_parts) == 1:\n",
    "        ids_by_fp[rel_filepath] = {\n",
    "            \"datestamp\": datetime.datetime.strptime(datestamp_parts[0], \"%Y_%m_%d\"),\n",
    "            \"camera_filename\": \"_\".join(camera_filename_parts[0].split(\"_\")[1:]),\n",
    "        }\n",
    "        continue\n",
    "    print(f\"unhandled path: {rel_filepath}\")\n",
    "n_with_counter = len([fp for fp in ids_by_fp if \"counter\" in ids_by_fp[fp]])\n",
    "n_with_camera_filename = len(\n",
    "    [fp for fp in ids_by_fp if \"camera_filename\" in ids_by_fp[fp]]\n",
    ")\n",
    "n_total = n_wrong_filename_start + n_with_counter + n_with_camera_filename\n",
    "n_missing = len(bmp_rel_filepaths)-n_total"
   ]
  },
  {
   "cell_type": "code",
   "execution_count": null,
   "metadata": {},
   "outputs": [],
   "source": [
    "msg = (\n",
    "    f\"Found {n_wrong_filename_start} paths with a wrong filename, {n_with_counter} paths \"\n",
    "    f\"with a 'HS--' block, and {n_with_camera_filename} paths with a camera filename \"\n",
    "    f\"({n_total} total, {n_missing} missing)\"\n",
    ")\n",
    "print(msg)"
   ]
  },
  {
   "cell_type": "code",
   "execution_count": null,
   "metadata": {},
   "outputs": [],
   "source": [
    "for ii, (rel_filepath, id_dict) in enumerate(ids_by_fp.items()):\n",
    "    #if ii>1000:\n",
    "    #    break\n",
    "    query = {\"Date\":id_dict[\"datestamp\"].strftime(\"%-m/%-d/%Y\")}\n",
    "    if \"counter\" in id_dict:\n",
    "        query[\"Experiment Day Counter\"] = id_dict[\"counter\"]\n",
    "    elif \"camera_filename\" in id_dict:\n",
    "        query[\"Camera Filename\"] = id_dict[\"camera_filename\"]\n",
    "    foundset = fms.find([query])\n",
    "    n_found = 0\n",
    "    for record in foundset:\n",
    "        n_found+=1\n",
    "    if n_found!=1:\n",
    "        print(f\"found {n_found} records for {rel_filepath}\")\n"
   ]
  },
  {
   "cell_type": "code",
   "execution_count": null,
   "metadata": {},
   "outputs": [],
   "source": []
  }
 ],
 "metadata": {
  "kernelspec": {
   "display_name": "flyer-detection",
   "language": "python",
   "name": "python3"
  },
  "language_info": {
   "codemirror_mode": {
    "name": "ipython",
    "version": 3
   },
   "file_extension": ".py",
   "mimetype": "text/x-python",
   "name": "python",
   "nbconvert_exporter": "python",
   "pygments_lexer": "ipython3",
   "version": "3.9.0"
  },
  "orig_nbformat": 4
 },
 "nbformat": 4,
 "nbformat_minor": 2
}
