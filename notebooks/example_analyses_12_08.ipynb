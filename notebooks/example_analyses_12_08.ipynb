{
 "cells": [
  {
   "cell_type": "code",
   "execution_count": null,
   "metadata": {
    "notebookRunGroups": {
     "groupValue": "1"
    }
   },
   "outputs": [],
   "source": [
    "# imports\n",
    "import pathlib, pickle, datetime\n",
    "from io import BytesIO\n",
    "import matplotlib.pyplot as plt, numpy as np\n",
    "from PIL import Image\n",
    "from IPython.display import Image as display_image\n",
    "from matplotlib.patches import FancyArrow\n",
    "from sqlalchemy import create_engine, select, func, not_, inspect\n",
    "from flyeranalysis.flyer_analysis_entry import FlyerAnalysisEntry\n",
    "from flyeranalysis.flyer_image_entry import FlyerImageEntry\n",
    "from flyeranalysis.metadata_link_entry import MetadataLinkEntry\n",
    "from collections import defaultdict"
   ]
  },
  {
   "cell_type": "code",
   "execution_count": null,
   "metadata": {
    "notebookRunGroups": {
     "groupValue": "1"
    }
   },
   "outputs": [],
   "source": [
    "# frames on which each gif should start and end\n",
    "START_FRAME = 90\n",
    "END_FRAME = 256\n",
    "FRAMES_NB = abs(END_FRAME-START_FRAME)\n",
    "example_video_metadata_link_id = 125\n",
    "FEATURES_NB = 6"
   ]
  },
  {
   "cell_type": "code",
   "execution_count": null,
   "metadata": {
    "notebookRunGroups": {
     "groupValue": "1"
    }
   },
   "outputs": [],
   "source": [
    "# read the credentials from the pickle file\n",
    "flyer_analysis_DB_auth_pickle_file_path = pathlib.Path()/\"flyer_analysis_db_auth.pkl\"\n",
    "with open(flyer_analysis_DB_auth_pickle_file_path,\"rb\") as fp:\n",
    "    auth = pickle.load(fp)\n",
    "\n",
    "# connect to the database\n",
    "db_connection_string = (\n",
    "    f\"mssql+pymssql://{auth['username']}:{auth['password']}\"\n",
    "    f\"@{auth['ip_address']}:{auth['port']}/{auth['db_name']}?charset=utf8\"\n",
    ")\n",
    "engine = create_engine(db_connection_string)  # ,echo=True)"
   ]
  },
  {
   "attachments": {},
   "cell_type": "markdown",
   "metadata": {},
   "source": [
    "### Find the total number of images, videos, and the number of videos with at least 50% good frames"
   ]
  },
  {
   "cell_type": "code",
   "execution_count": null,
   "metadata": {
    "notebookRunGroups": {
     "groupValue": "1"
    }
   },
   "outputs": [],
   "source": [
    "stmt = select(func.count()).select_from(FlyerAnalysisEntry)\n",
    "with engine.connect() as conn:\n",
    "    n_analysis_results = conn.execute(stmt).all()[0][0]\n",
    "print(f\"Total number of analyzed images = {n_analysis_results}\")\n",
    "\n",
    "stmt = select(func.count()).select_from(FlyerAnalysisEntry).filter(FlyerAnalysisEntry.exit_code==0)\n",
    "with engine.connect() as conn:\n",
    "    n_good_analysis_results = conn.execute(stmt).all()[0][0]\n",
    "print(f\"Number of analyzed images with exit code 0 = {n_good_analysis_results}\")"
   ]
  },
  {
   "cell_type": "code",
   "execution_count": null,
   "metadata": {},
   "outputs": [],
   "source": [
    "stmt = select(func.count()).select_from(MetadataLinkEntry)\n",
    "with engine.connect() as conn:\n",
    "    n_metadata_links = conn.execute(stmt).all()[0][0]\n",
    "print(f\"Total number of videos = {n_metadata_links}\")"
   ]
  },
  {
   "cell_type": "code",
   "execution_count": null,
   "metadata": {
    "notebookRunGroups": {
     "groupValue": "1"
    }
   },
   "outputs": [],
   "source": [
    "good_video_metadata_link_ids = []\n",
    "# good_video_metadata_link_ids = {}\n",
    "with engine.connect() as conn:\n",
    "    metadata_link_ids = [res.ID for res in conn.execute(select(MetadataLinkEntry.ID)).all()]\n",
    "for metadata_link_id in metadata_link_ids:\n",
    "    stmt = (\n",
    "        select(FlyerAnalysisEntry.exit_code)\n",
    "        .where(FlyerAnalysisEntry.metadata_link_ID==metadata_link_id)\n",
    "    )\n",
    "    with engine.connect() as conn:\n",
    "        video_exit_codes = [res.exit_code for res in conn.execute(stmt).all()]\n",
    "    n_total_frames = len(video_exit_codes)\n",
    "    n_good_frames = video_exit_codes.count(0)\n",
    "    if (n_good_frames/n_total_frames)>=0.5:\n",
    "        good_video_metadata_link_ids.append(metadata_link_id)\n",
    "        # good_video_metadata_link_ids[metadata_link_id].append(metadata_link_id)\n",
    "print(f\"Number of videos with at least 50% good frames = {len(good_video_metadata_link_ids)}\")"
   ]
  },
  {
   "attachments": {},
   "cell_type": "markdown",
   "metadata": {},
   "source": [
    "### An example plot of the analysis results for one video"
   ]
  },
  {
   "cell_type": "code",
   "execution_count": null,
   "metadata": {},
   "outputs": [],
   "source": [
    "# example_video_metadata_link_id = good_video_metadata_link_ids[int(0.5*len(good_video_metadata_link_ids))]\n",
    "\n",
    "# get all the analysis results for the example video\n",
    "stmt = (\n",
    "    select(\n",
    "        FlyerAnalysisEntry.rel_filepath,\n",
    "        FlyerAnalysisEntry.exit_code,\n",
    "        FlyerAnalysisEntry.radius,\n",
    "        FlyerAnalysisEntry.tilt,\n",
    "        FlyerAnalysisEntry.leading_row,\n",
    "        FlyerAnalysisEntry.center_row,\n",
    "        FlyerAnalysisEntry.center_column,\n",
    "    )\n",
    "    .where(FlyerAnalysisEntry.metadata_link_ID==example_video_metadata_link_id)\n",
    "    .order_by(FlyerAnalysisEntry.rel_filepath)\n",
    ")\n",
    "with engine.connect() as conn:\n",
    "    video_results = conn.execute(stmt).all()\n",
    "# count the number of frames with exit code!=0\n",
    "n_good_frames = len([res for res in video_results if res.exit_code==0])\n",
    "# create arrays of all of the computed values to plot them\n",
    "frame_numbers = []\n",
    "radii = []\n",
    "tilts = []\n",
    "leading_rows = []\n",
    "center_rows = []\n",
    "center_columns = []\n",
    "for result in video_results:\n",
    "    if result.exit_code != 0:\n",
    "        continue\n",
    "    frame_number = int(\n",
    "        result.rel_filepath.split(\"/\")[-1].split(\"_\")[-1][: -len(\".bmp\")]\n",
    "    )\n",
    "    frame_numbers.append(frame_number)\n",
    "    radii.append(min(result.radius,250.0))\n",
    "    tilts.append(result.tilt)\n",
    "    leading_rows.append(result.leading_row)\n",
    "    center_rows.append(max(-250, min(250, result.center_row)))\n",
    "    center_columns.append(max(-400, min(400, result.center_column)))\n",
    "# plot all the computed values as a function of frame number\n",
    "f, ax = plt.subplots(5, 1, figsize=(8.0, 10.0))\n",
    "for axs in ax:\n",
    "    axs.set_xlim((-10, 260))\n",
    "    axs.set_xticks(list(range(1, 256, 25)))\n",
    "    axs.set_xticklabels(list(range(1, 256, 25)))\n",
    "kwargs = {\"marker\": \".\"}\n",
    "ax[0].plot(frame_numbers, radii, **kwargs)\n",
    "ax[0].set_ylabel(\"radius of curvature\")\n",
    "ax[1].plot(frame_numbers, tilts, **kwargs)\n",
    "ax[1].set_ylabel(\"flyer tilt\")\n",
    "ax[2].plot(frame_numbers, leading_rows, **kwargs)\n",
    "ax[2].set_ylabel(\"leading row\")\n",
    "ax[3].plot(frame_numbers, center_rows, **kwargs)\n",
    "ax[3].set_ylabel(\"center row\")\n",
    "ax[4].plot(frame_numbers, center_columns, **kwargs)\n",
    "ax[4].set_ylabel(\"center column\")\n",
    "ax[4].set_xlabel(\"frame number\")\n",
    "res = video_results[0]\n",
    "f.suptitle(f\"{res.rel_filepath.split('/')[-4]}/{res.rel_filepath.split('/')[-2]} video ({n_good_frames} good frames)\")\n",
    "f.tight_layout()\n",
    "# plt.show()\n",
    "plt.savefig('features_plot.png')"
   ]
  },
  {
   "attachments": {},
   "cell_type": "markdown",
   "metadata": {},
   "source": [
    "### Selecting some video frames with extreme results and showing their images"
   ]
  },
  {
   "cell_type": "code",
   "execution_count": null,
   "metadata": {},
   "outputs": [],
   "source": [
    "def plot_example_result(img_entry,title):\n",
    "    cam_img = np.asarray(Image.open(BytesIO(img_entry.camera_image)))\n",
    "    ana_img = np.load(BytesIO(img_entry.analysis_image))[\"arr_0\"]\n",
    "    padded_ana_img = np.zeros_like(cam_img)\n",
    "    padded_ana_img[:ana_img.shape[0],:ana_img.shape[1]] = ana_img\n",
    "    f,ax = plt.subplots(1,3,figsize=(3*5.5,5.5*cam_img.shape[0]/cam_img.shape[1]))\n",
    "    ax[0].imshow(cam_img,cmap=\"gray\")\n",
    "    ax[1].imshow(padded_ana_img,interpolation=\"nearest\")\n",
    "    ax[2].imshow(cam_img,cmap=\"gray\")\n",
    "    ax[2].imshow(padded_ana_img,interpolation=\"nearest\",alpha=0.5)\n",
    "    f.suptitle(title)\n",
    "    for axs in ax:\n",
    "        axs.axis(\"off\")\n",
    "    f.tight_layout()\n",
    "    # plt.show()\n",
    "    plt.savefig(f'{title}.png')"
   ]
  },
  {
   "cell_type": "code",
   "execution_count": null,
   "metadata": {},
   "outputs": [],
   "source": [
    "stmt = (\n",
    "    select(func.min(FlyerAnalysisEntry.radius))\n",
    "    .select_from(FlyerAnalysisEntry)\n",
    "    .filter(FlyerAnalysisEntry.exit_code == 0)\n",
    ")\n",
    "with engine.connect() as conn:\n",
    "    min_radius = conn.execute(stmt).first()[0]\n",
    "stmt = (\n",
    "    select(FlyerImageEntry)\n",
    "    .join(FlyerAnalysisEntry)\n",
    "    .where(FlyerAnalysisEntry.radius == min_radius)\n",
    ")\n",
    "with engine.connect() as conn:\n",
    "    img_entry = conn.execute(stmt).first()\n",
    "plot_example_result(img_entry, f\"Minimum radius example: {min_radius}\")\n",
    "\n",
    "stmt = (\n",
    "    select(func.max(FlyerAnalysisEntry.radius))\n",
    "    .select_from(FlyerAnalysisEntry)\n",
    "    .filter(\n",
    "        (FlyerAnalysisEntry.exit_code == 0)\n",
    "        & not_(FlyerAnalysisEntry.rel_filepath.contains(\"TC--\"))\n",
    "    )\n",
    ")\n",
    "with engine.connect() as conn:\n",
    "    max_radius = conn.execute(stmt).first()[0]\n",
    "stmt = (\n",
    "    select(FlyerImageEntry)\n",
    "    .join(FlyerAnalysisEntry)\n",
    "    .where(FlyerAnalysisEntry.radius == max_radius)\n",
    ")\n",
    "with engine.connect() as conn:\n",
    "    img_entry = conn.execute(stmt).first()\n",
    "plot_example_result(img_entry, f\"Maximum radius example: {max_radius}\")\n",
    "\n",
    "stmt = (\n",
    "    select(func.min(FlyerAnalysisEntry.tilt))\n",
    "    .select_from(FlyerAnalysisEntry)\n",
    "    .filter(FlyerAnalysisEntry.exit_code == 0)\n",
    ")\n",
    "with engine.connect() as conn:\n",
    "    min_tilt = conn.execute(stmt).first()[0]\n",
    "stmt = (\n",
    "    select(FlyerImageEntry)\n",
    "    .join(FlyerAnalysisEntry)\n",
    "    .where(FlyerAnalysisEntry.tilt == min_tilt)\n",
    ")\n",
    "with engine.connect() as conn:\n",
    "    img_entry = conn.execute(stmt).first()\n",
    "plot_example_result(img_entry, f\"Minimum tilt example: {min_tilt}\")\n",
    "\n",
    "stmt = (\n",
    "    select(func.max(FlyerAnalysisEntry.tilt))\n",
    "    .select_from(FlyerAnalysisEntry)\n",
    "    .filter(\n",
    "        (FlyerAnalysisEntry.exit_code == 0)\n",
    "        & not_(FlyerAnalysisEntry.rel_filepath.contains(\"TC--\"))\n",
    "    )\n",
    ")\n",
    "with engine.connect() as conn:\n",
    "    max_tilt = conn.execute(stmt).first()[0]\n",
    "stmt = (\n",
    "    select(FlyerImageEntry)\n",
    "    .join(FlyerAnalysisEntry)\n",
    "    .where(FlyerAnalysisEntry.tilt == max_tilt)\n",
    ")\n",
    "with engine.connect() as conn:\n",
    "    img_entry = conn.execute(stmt).first()\n",
    "plot_example_result(img_entry, f\"Maximum tilt example: {max_tilt}\")"
   ]
  },
  {
   "attachments": {},
   "cell_type": "markdown",
   "metadata": {},
   "source": [
    "### Make an example gif for a video right out of what's in the DB"
   ]
  },
  {
   "cell_type": "code",
   "execution_count": null,
   "metadata": {},
   "outputs": [],
   "source": [
    "stmt = (\n",
    "    select(\n",
    "        FlyerAnalysisEntry.rel_filepath,\n",
    "        FlyerAnalysisEntry.exit_code,\n",
    "        FlyerAnalysisEntry.center_row,\n",
    "        FlyerAnalysisEntry.center_column,\n",
    "        FlyerImageEntry.camera_image,\n",
    "        FlyerImageEntry.analysis_image,\n",
    "    )\n",
    "    .join(FlyerImageEntry)\n",
    "    .where(\n",
    "        (FlyerAnalysisEntry.metadata_link_ID==example_video_metadata_link_id)\n",
    "        & (not_(FlyerAnalysisEntry.rel_filepath.contains(\"TC--\")))\n",
    "    )\n",
    "    .order_by(FlyerAnalysisEntry.rel_filepath)\n",
    ")\n",
    "with engine.connect() as conn:\n",
    "    video_results = conn.execute(stmt).all()\n",
    "gif_title = \"/\".join(video_results[0].rel_filepath.split('/')[-3:-1])\n",
    "# create a gif frame from each original frame in the video\n",
    "gif_frame_bytestrings = []\n",
    "for result in video_results:\n",
    "    # get the frame number and make sure it's in range\n",
    "    frame_number = int(\n",
    "        result.rel_filepath.split(\"/\")[-1].split(\"_\")[-1][: -len(\".bmp\")]\n",
    "    )\n",
    "    if frame_number not in range(START_FRAME, END_FRAME + 1):\n",
    "        continue\n",
    "    # convert the original image to a numpy array\n",
    "    original_image = np.asarray(Image.open(BytesIO(result.camera_image)))\n",
    "    # if the frame didn't have a good result, just use the original grayscale image\n",
    "    if result.analysis_image is None:\n",
    "        frame_stream = BytesIO()\n",
    "        f, ax = plt.subplots()\n",
    "        ax.imshow(original_image, cmap=\"gray\")\n",
    "        ax.set_title(gif_title)\n",
    "        ax.axis(\"off\")\n",
    "        plt.savefig(frame_stream, bbox_inches=\"tight\")\n",
    "        plt.close()\n",
    "        frame_stream.seek(0)\n",
    "        gif_frame_bytestrings.append(frame_stream.read())\n",
    "        continue\n",
    "    # if the result was good, though, create an overlay from the result\n",
    "    analysis_image = np.load(BytesIO(result.analysis_image))[\"arr_0\"]\n",
    "    flyer_row, flyer_col = np.nonzero(np.where(analysis_image > 200, 1, 0))\n",
    "    analysis_overlay = np.zeros_like(original_image)\n",
    "    analysis_overlay[: analysis_image.shape[0], :] = analysis_image\n",
    "    arrow = FancyArrow(\n",
    "        np.median(flyer_col),\n",
    "        np.median(flyer_row),\n",
    "        0.75 * (result.center_column - np.mean(flyer_col)),\n",
    "        0.75 * (result.center_row - np.mean(flyer_row)),\n",
    "        width=0.1,\n",
    "        color=\"r\",\n",
    "    )\n",
    "    frame_stream = BytesIO()\n",
    "    f, ax = plt.subplots()\n",
    "    ax.imshow(original_image, cmap=\"gray\")\n",
    "    analysis_im_alphas = 0.5 * np.ones_like(analysis_overlay)\n",
    "    analysis_im_alphas[analysis_overlay == 0] = 0\n",
    "    ax.imshow(analysis_overlay, alpha=analysis_im_alphas)\n",
    "    ax.add_patch(arrow)\n",
    "    ax.set_title(gif_title)\n",
    "    ax.axis(\"off\")\n",
    "    plt.savefig(frame_stream, bbox_inches=\"tight\")\n",
    "    plt.close()\n",
    "    frame_stream.seek(0)\n",
    "    gif_frame_bytestrings.append(frame_stream.read())\n",
    "gif_stream = BytesIO()\n",
    "gif_frames = [\n",
    "    Image.open(BytesIO(frame_bytestring))\n",
    "    for frame_bytestring in gif_frame_bytestrings\n",
    "]\n",
    "frame_one = gif_frames[0]\n",
    "frame_one.save(\n",
    "    gif_stream,\n",
    "    format=\"GIF\",\n",
    "    append_images=gif_frames,\n",
    "    save_all=True,\n",
    "    duration=100,\n",
    "    loop=0,\n",
    ")\n",
    "gif_stream.seek(0)\n",
    "# display(display_image(data=gif_stream.read()))\n",
    "with open('video.gif', 'wb') as file:\n",
    "    file.write(gif_stream.read())\n"
   ]
  },
  {
   "cell_type": "code",
   "execution_count": null,
   "metadata": {},
   "outputs": [],
   "source": [
    "# get the number of good frames for each metadata link ID\n",
    "stmt = (\n",
    "    select(FlyerAnalysisEntry.metadata_link_ID,func.count())\n",
    "    .select_from(FlyerAnalysisEntry)\n",
    "    .filter(FlyerAnalysisEntry.exit_code==0)\n",
    "    .group_by(FlyerAnalysisEntry.metadata_link_ID)\n",
    "    .order_by(FlyerAnalysisEntry.metadata_link_ID)\n",
    ")\n",
    "with engine.connect() as conn:\n",
    "    n_good_frames_by_metadata_link_id = {res[0]:res[1] for res in conn.execute(stmt).all()}\n",
    "\n",
    "# # There are some entries that have more than the maximum number of good video frames\n",
    "# # These need to be associated with FileMaker DB entries in some more complex way\n",
    "# weird_mlids = []\n",
    "# for mlid,ngf in n_good_frames_by_metadata_link_id.items():\n",
    "#     if ngf>256:\n",
    "#         print(f\"entry {mlid}: {ngf} good frames\")\n",
    "#         weird_mlids.append(mlid)\n",
    "# stmt = select(MetadataLinkEntry).where(MetadataLinkEntry.ID.in_(weird_mlids))\n",
    "# with engine.connect() as conn:\n",
    "#     results = conn.execute(stmt).mappings().all()\n",
    "# for res in results:\n",
    "#     print(res)\n",
    "# # Checking the relative filepaths for one of those glitched metadata link entries\n",
    "# stmt = select(FlyerAnalysisEntry.rel_filepath).where(FlyerAnalysisEntry.metadata_link_ID==weird_mlids[0])\n",
    "# with engine.connect() as conn:\n",
    "#     results = conn.execute(stmt).all()\n",
    "# for res in results:\n",
    "#     print(res[0])\n",
    "\n",
    "# get a full timestamp for each metadata link ID\n",
    "stmt = (\n",
    "    select(\n",
    "        MetadataLinkEntry.ID,\n",
    "        MetadataLinkEntry.datestamp,\n",
    "        MetadataLinkEntry.experiment_day_counter,\n",
    "        MetadataLinkEntry.camera_filename\n",
    "    )\n",
    "    .where(MetadataLinkEntry.datestamp.isnot(None))\n",
    "    .order_by(MetadataLinkEntry.ID)\n",
    ")\n",
    "with engine.connect() as conn:\n",
    "    results = conn.execute(stmt).mappings().all()\n",
    "timestamps_by_metadata_link_id = {}\n",
    "for result in results:\n",
    "    datestamp = result[\"datestamp\"]\n",
    "    if result[\"camera_filename\"]:\n",
    "        timestamp = datetime.datetime.strptime(result[\"camera_filename\"],\"%H_%M_%S\").time()\n",
    "    elif result[\"experiment_day_counter\"]:\n",
    "        counter = int(result[\"experiment_day_counter\"])\n",
    "        hour = int(counter/2)\n",
    "        mins = 30*(counter%2)\n",
    "        timestamp = datetime.time(hour,mins)\n",
    "    full_timestamp = datestamp.combine(datestamp,timestamp)\n",
    "    timestamps_by_metadata_link_id[result[\"ID\"]] = full_timestamp\n",
    "# make the plot\n",
    "timestamps = []\n",
    "ns_good_frames = []\n",
    "for metadata_link_id,timestamp in timestamps_by_metadata_link_id.items():\n",
    "    if metadata_link_id not in n_good_frames_by_metadata_link_id:\n",
    "        continue\n",
    "    # skip entries with more than the total number of frames (timestamps for these are bugged)\n",
    "    if n_good_frames_by_metadata_link_id[metadata_link_id]>256:\n",
    "        continue\n",
    "    timestamps.append(timestamp)\n",
    "    ns_good_frames.append(n_good_frames_by_metadata_link_id[metadata_link_id])\n",
    "f,ax = plt.subplots(figsize=(10.,5.))\n",
    "ax.scatter(timestamps,ns_good_frames,marker=\"o\",s=(120./f.dpi)**2)\n",
    "ax.set_xlabel(\"timestamp\")\n",
    "ax.set_ylabel(\"# of good frames\")\n",
    "plt.show()"
   ]
  },
  {
   "cell_type": "code",
   "execution_count": null,
   "metadata": {},
   "outputs": [],
   "source": [
    "# mant filemaker records omitted this field\n",
    "stmt = select(MetadataLinkEntry).filter(MetadataLinkEntry.camera_filename!=None) #.order_by(FlyerAnalysisEntry.metadata_link_ID)\n",
    "with engine.connect() as conn:\n",
    "    result = conn.execute(stmt).all()\n",
    "    print(len(result))\n",
    "    print(result[0])"
   ]
  },
  {
   "attachments": {},
   "cell_type": "markdown",
   "metadata": {},
   "source": [
    "### Attempt to predict whether a video is good or bad based on all of its frames (Incomplete)"
   ]
  },
  {
   "cell_type": "code",
   "execution_count": null,
   "metadata": {},
   "outputs": [],
   "source": [
    "X = defaultdict(lambda : np.zeros(shape=(FRAMES_NB, FEATURES_NB-1)))\n",
    "Y = defaultdict(lambda: int)\n",
    "\n",
    "stmt = select(FlyerAnalysisEntry).order_by(FlyerAnalysisEntry.rel_filepath)\n",
    "\n",
    "with engine.connect() as conn:\n",
    "    for i, result in enumerate(conn.execute(stmt).all()):\n",
    "        try:\n",
    "            camera_filename = result.rel_filepath.split(\"/\")[-2]\n",
    "            if not type(camera_filename) == str:\n",
    "                continue\n",
    "            frame_number = int(result.rel_filepath.split(\"/\")[-1].split(\"_\")[-1][: -len(\".bmp\")])\n",
    "            if frame_number not in range(START_FRAME, END_FRAME + 1):\n",
    "                continue\n",
    "        except Exception as e:\n",
    "            print(e)\n",
    "            continue\n",
    "        X[camera_filename][frame_number-90-1] = np.array([result.radius, result.tilt, result.leading_row, result.center_row, result.center_column]) #TODO: try abs(tilt)\n",
    "        # X[camera_filename][frame_number-90-1] = np.array([result.ID, result.radius, result.tilt, result.leading_row, result.center_row, result.center_column]) #TODO: try abs(tilt)\n",
    "    # stmt = (\n",
    "    #     select(FlyerAnalysisEntry.exit_code)\n",
    "    #     .where(FlyerAnalysisEntry.metadata_link_ID==result.metadata_link_ID)\n",
    "    # )\n",
    "    # video_exit_codes = [res.exit_code for res in conn.execute(stmt).all()]\n",
    "    # n_total_frames = len(video_exit_codes)\n",
    "    # n_good_frames = video_exit_codes.count(0)\n",
    "    # if (n_good_frames/n_total_frames)>=0.5:\n",
    "    #     Y[camera_filename] = 1\n",
    "    # else:\n",
    "    #     Y[camera_filename] = 0\n",
    "    # # conn.execute(stmt).all()"
   ]
  },
  {
   "cell_type": "code",
   "execution_count": 47,
   "metadata": {
    "notebookRunGroups": {
     "groupValue": "1"
    }
   },
   "outputs": [
    {
     "name": "stdout",
     "output_type": "stream",
     "text": [
      "length before removing zero elements: 916\n",
      "length after removing zero elements: 880\n"
     ]
    }
   ],
   "source": [
    "print(f\"length before removing zero elements: {len(X)}\")\n",
    "# print(f\"length before removing zero elements: {len(Y)}\")\n",
    "for key in list(X.keys()):\n",
    "    my_array = X[key]\n",
    "    zero_rows_count = np.count_nonzero(np.all(my_array == 0, axis=1))\n",
    "    # print(f\"nb of empty rows: {zero_rows_count}\")\n",
    "    if zero_rows_count > 0:\n",
    "        X.pop(key)\n",
    "        # Y.pop(key)\n",
    "print(f\"length after removing zero elements: {len(X)}\")\n",
    "# print(f\"length after removing zero elements: {len(Y)}\")\n"
   ]
  },
  {
   "cell_type": "code",
   "execution_count": 48,
   "metadata": {},
   "outputs": [
    {
     "name": "stdout",
     "output_type": "stream",
     "text": [
      "(880, 166, 5)\n"
     ]
    }
   ],
   "source": [
    "array_list = []\n",
    "for key in list(X.keys()):\n",
    "    array_list.append(X[key])\n",
    "X_3d=np.array(array_list)\n",
    "print(np.shape(X_3d))"
   ]
  },
  {
   "cell_type": "code",
   "execution_count": 52,
   "metadata": {},
   "outputs": [
    {
     "name": "stdout",
     "output_type": "stream",
     "text": [
      "Number of NaN values: 141066\n"
     ]
    }
   ],
   "source": [
    "num_nans = np.sum(np.isnan(X_3d))\n",
    "print(\"Number of NaN values:\", num_nans) # ~20% of values are nans because nothing could be captured on those frames\n",
    "np.save('X_3d.npy', X_3d)\n",
    "X_3d_copy = np.load('X_3d.npy')"
   ]
  }
 ],
 "metadata": {
  "kernelspec": {
   "display_name": "birdshot",
   "language": "python",
   "name": "python3"
  },
  "language_info": {
   "codemirror_mode": {
    "name": "ipython",
    "version": 3
   },
   "file_extension": ".py",
   "mimetype": "text/x-python",
   "name": "python",
   "nbconvert_exporter": "python",
   "pygments_lexer": "ipython3",
   "version": "3.9.16 (main, Mar  8 2023, 14:00:05) \n[GCC 11.2.0]"
  },
  "orig_nbformat": 4,
  "vscode": {
   "interpreter": {
    "hash": "c93de424c187b5f45150c4b68957697054d2d10439b831359c08b5dbeaa012b5"
   }
  }
 },
 "nbformat": 4,
 "nbformat_minor": 2
}
