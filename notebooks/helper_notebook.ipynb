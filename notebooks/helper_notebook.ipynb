{
 "cells": [
  {
   "cell_type": "code",
   "execution_count": 1,
   "metadata": {},
   "outputs": [
    {
     "name": "stdout",
     "output_type": "stream",
     "text": [
      "Defaulting to user installation because normal site-packages is not writeable\n",
      "Requirement already satisfied: scipy==1.9.3 in ./.local/lib/python3.10/site-packages (from -r requirements.txt (line 1)) (1.9.3)\n",
      "Requirement already satisfied: matplotlib==3.6.2 in ./.local/lib/python3.10/site-packages (from -r requirements.txt (line 2)) (3.6.2)\n",
      "Requirement already satisfied: opencv-python==4.6.0.66 in ./.local/lib/python3.10/site-packages (from -r requirements.txt (line 3)) (4.6.0.66)\n",
      "Requirement already satisfied: numpy==1.23.4 in ./.local/lib/python3.10/site-packages (from -r requirements.txt (line 4)) (1.23.4)\n",
      "Requirement already satisfied: scikit-image==0.19.3 in ./.local/lib/python3.10/site-packages (from -r requirements.txt (line 5)) (0.19.3)\n",
      "Requirement already satisfied: pandas==1.5.1 in ./.local/lib/python3.10/site-packages (from -r requirements.txt (line 6)) (1.5.1)\n",
      "Requirement already satisfied: imageio==2.22.4 in ./.local/lib/python3.10/site-packages (from -r requirements.txt (line 7)) (2.22.4)\n",
      "Requirement already satisfied: pillow>=6.2.0 in /usr/lib/python3/dist-packages (from matplotlib==3.6.2->-r requirements.txt (line 2)) (9.0.1)\n",
      "Requirement already satisfied: contourpy>=1.0.1 in ./.local/lib/python3.10/site-packages (from matplotlib==3.6.2->-r requirements.txt (line 2)) (1.0.6)\n",
      "Requirement already satisfied: packaging>=20.0 in ./.local/lib/python3.10/site-packages (from matplotlib==3.6.2->-r requirements.txt (line 2)) (21.3)\n",
      "Requirement already satisfied: python-dateutil>=2.7 in ./.local/lib/python3.10/site-packages (from matplotlib==3.6.2->-r requirements.txt (line 2)) (2.8.2)\n",
      "Requirement already satisfied: fonttools>=4.22.0 in ./.local/lib/python3.10/site-packages (from matplotlib==3.6.2->-r requirements.txt (line 2)) (4.38.0)\n",
      "Requirement already satisfied: cycler>=0.10 in ./.local/lib/python3.10/site-packages (from matplotlib==3.6.2->-r requirements.txt (line 2)) (0.11.0)\n",
      "Requirement already satisfied: kiwisolver>=1.0.1 in ./.local/lib/python3.10/site-packages (from matplotlib==3.6.2->-r requirements.txt (line 2)) (1.4.4)\n",
      "Requirement already satisfied: pyparsing>=2.2.1 in /usr/lib/python3/dist-packages (from matplotlib==3.6.2->-r requirements.txt (line 2)) (2.4.7)\n",
      "Requirement already satisfied: PyWavelets>=1.1.1 in ./.local/lib/python3.10/site-packages (from scikit-image==0.19.3->-r requirements.txt (line 5)) (1.4.1)\n",
      "Requirement already satisfied: tifffile>=2019.7.26 in ./.local/lib/python3.10/site-packages (from scikit-image==0.19.3->-r requirements.txt (line 5)) (2022.10.10)\n",
      "Requirement already satisfied: networkx>=2.2 in ./.local/lib/python3.10/site-packages (from scikit-image==0.19.3->-r requirements.txt (line 5)) (2.8.8)\n",
      "Requirement already satisfied: pytz>=2020.1 in /usr/lib/python3/dist-packages (from pandas==1.5.1->-r requirements.txt (line 6)) (2022.1)\n",
      "Requirement already satisfied: six>=1.5 in /usr/lib/python3/dist-packages (from python-dateutil>=2.7->matplotlib==3.6.2->-r requirements.txt (line 2)) (1.16.0)\n",
      "Note: you may need to restart the kernel to use updated packages.\n"
     ]
    }
   ],
   "source": [
    "%pip install -r requirements.txt"
   ]
  },
  {
   "cell_type": "code",
   "execution_count": 1,
   "metadata": {},
   "outputs": [],
   "source": [
    "from flyer_detection import *"
   ]
  },
  {
   "cell_type": "code",
   "execution_count": 2,
   "metadata": {},
   "outputs": [
    {
     "name": "stderr",
     "output_type": "stream",
     "text": [
      "/home/alakarthika/.local/lib/python3.10/site-packages/numpy/core/fromnumeric.py:3432: RuntimeWarning: Mean of empty slice.\n",
      "  return _methods._mean(a, axis=axis, dtype=dtype,\n",
      "/home/alakarthika/.local/lib/python3.10/site-packages/numpy/core/_methods.py:190: RuntimeWarning: invalid value encountered in double_scalars\n",
      "  ret = ret.dtype.type(ret / rcount)\n",
      "/home/alakarthika/.local/lib/python3.10/site-packages/numpy/core/fromnumeric.py:3432: RuntimeWarning: Mean of empty slice.\n",
      "  return _methods._mean(a, axis=axis, dtype=dtype,\n",
      "/home/alakarthika/.local/lib/python3.10/site-packages/numpy/core/_methods.py:190: RuntimeWarning: invalid value encountered in double_scalars\n",
      "  ret = ret.dtype.type(ret / rcount)\n"
     ]
    }
   ],
   "source": [
    "os.chdir('/home/alakarthika')\n",
    "error_files=[]\n",
    "for root, dirs, files in os.walk('/usr/share/lasershock'):\n",
    "    for file in files:\n",
    "        if file.endswith(\".bmp\"):\n",
    "            try:\n",
    "                temp=Flyer_Detection()\n",
    "                temp.create_df_from_input_location(root)\n",
    "                fname=root[root.rfind('/')+1:]+'.csv'\n",
    "                temp.create_csv_from_df(fname)\n",
    "            except:\n",
    "                error_files.append(root)\n",
    "            break\n"
   ]
  },
  {
   "cell_type": "code",
   "execution_count": null,
   "metadata": {},
   "outputs": [],
   "source": [
    "with open('error_files.txt', 'w') as f:\n",
    "    for line in error_files:\n",
    "        f.write(f\"{line}\\n\")"
   ]
  }
 ],
 "metadata": {
  "kernelspec": {
   "display_name": "Python 3.10.6 64-bit",
   "language": "python",
   "name": "python3"
  },
  "language_info": {
   "codemirror_mode": {
    "name": "ipython",
    "version": 3
   },
   "file_extension": ".py",
   "mimetype": "text/x-python",
   "name": "python",
   "nbconvert_exporter": "python",
   "pygments_lexer": "ipython3",
   "version": "3.10.6"
  },
  "orig_nbformat": 4,
  "vscode": {
   "interpreter": {
    "hash": "916dbcbb3f70747c44a77c7bcd40155683ae19c65e1c03b4aa3499c5328201f1"
   }
  }
 },
 "nbformat": 4,
 "nbformat_minor": 2
}
